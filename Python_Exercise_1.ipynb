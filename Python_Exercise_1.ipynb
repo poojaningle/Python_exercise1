{
 "cells": [
  {
   "cell_type": "code",
   "execution_count": 264,
   "id": "263c1769",
   "metadata": {},
   "outputs": [
    {
     "data": {
      "text/plain": [
       "'\\n** What is 7 to the power of 4?**\\n\\n'"
      ]
     },
     "execution_count": 264,
     "metadata": {},
     "output_type": "execute_result"
    }
   ],
   "source": [
    "\"\"\"\n",
    "** What is 7 to the power of 4?**\n",
    "\n",
    "\"\"\""
   ]
  },
  {
   "cell_type": "code",
   "execution_count": 265,
   "id": "93456699",
   "metadata": {},
   "outputs": [
    {
     "data": {
      "text/plain": [
       "2401"
      ]
     },
     "execution_count": 265,
     "metadata": {},
     "output_type": "execute_result"
    }
   ],
   "source": [
    "7**4"
   ]
  },
  {
   "cell_type": "code",
   "execution_count": 266,
   "id": "57e53425",
   "metadata": {},
   "outputs": [
    {
     "data": {
      "text/plain": [
       "'\\n** Split this string:**\\n\\ns = \"Hi there Yogesh!\"\\n*into a list. *\\n\\n'"
      ]
     },
     "execution_count": 266,
     "metadata": {},
     "output_type": "execute_result"
    }
   ],
   "source": [
    "\"\"\"\n",
    "** Split this string:**\n",
    "\n",
    "s = \"Hi there Yogesh!\"\n",
    "*into a list. *\n",
    "\n",
    "\"\"\""
   ]
  },
  {
   "cell_type": "code",
   "execution_count": 2,
   "id": "dcb512ca",
   "metadata": {},
   "outputs": [],
   "source": [
    "s = \"Hi there Yogesh!\""
   ]
  },
  {
   "cell_type": "code",
   "execution_count": 3,
   "id": "1095fac2",
   "metadata": {},
   "outputs": [
    {
     "data": {
      "text/plain": [
       "['Hi', 'there', 'Yogesh!']"
      ]
     },
     "execution_count": 3,
     "metadata": {},
     "output_type": "execute_result"
    }
   ],
   "source": [
    "s.split()"
   ]
  },
  {
   "cell_type": "code",
   "execution_count": 267,
   "id": "ab19e875",
   "metadata": {},
   "outputs": [
    {
     "data": {
      "text/plain": [
       "'\\n** Given the variables:**\\n\\nplanet = \"Earth\"\\ndiameter = 12742\\n** Use .format() to print the following string: **\\n\\nThe diameter of Earth is 12742 kilometers.\\n\\n'"
      ]
     },
     "execution_count": 267,
     "metadata": {},
     "output_type": "execute_result"
    }
   ],
   "source": [
    "\"\"\"\n",
    "** Given the variables:**\n",
    "\n",
    "planet = \"Earth\"\n",
    "diameter = 12742\n",
    "** Use .format() to print the following string: **\n",
    "\n",
    "The diameter of Earth is 12742 kilometers.\n",
    "\n",
    "\"\"\""
   ]
  },
  {
   "cell_type": "code",
   "execution_count": 14,
   "id": "f491d7b1",
   "metadata": {},
   "outputs": [
    {
     "data": {
      "text/plain": [
       "'The diameter of Earth is 12742 kilometers'"
      ]
     },
     "execution_count": 14,
     "metadata": {},
     "output_type": "execute_result"
    }
   ],
   "source": [
    "planet=\"Earth\"\n",
    "diameter=12742\n",
    "'The diameter of {} is {} kilometers'.format(planet,diameter)"
   ]
  },
  {
   "cell_type": "code",
   "execution_count": null,
   "id": "ff57b322",
   "metadata": {},
   "outputs": [],
   "source": [
    "\"\"\"\n",
    "'The diameter of Earth is 12742 kilometers'\n",
    "** Given this nested list, use indexing to grab the word \"hello\" **\n",
    "\n",
    "   lst = [1,2,[3,4],[5,[100,200,['hello']],23,11],1,7]\n",
    "\"\"\""
   ]
  },
  {
   "cell_type": "code",
   "execution_count": 18,
   "id": "e4254634",
   "metadata": {},
   "outputs": [],
   "source": [
    "lst = [1,2,[3,4],[5,[100,200,['hello']],23,11],1,7]"
   ]
  },
  {
   "cell_type": "code",
   "execution_count": 20,
   "id": "f79020e6",
   "metadata": {},
   "outputs": [
    {
     "data": {
      "text/plain": [
       "'hello'"
      ]
     },
     "execution_count": 20,
     "metadata": {},
     "output_type": "execute_result"
    }
   ],
   "source": [
    "lst[3][1][2][0]"
   ]
  },
  {
   "cell_type": "code",
   "execution_count": 268,
   "id": "d5fe5298",
   "metadata": {},
   "outputs": [
    {
     "data": {
      "text/plain": [
       "'\\n** Given this nested dictionary grab the word \"hello\". Be prepared, this will be annoying/tricky **\\n'"
      ]
     },
     "execution_count": 268,
     "metadata": {},
     "output_type": "execute_result"
    }
   ],
   "source": [
    "\"\"\"\n",
    "** Given this nested dictionary grab the word \"hello\". Be prepared, this will be annoying/tricky **\n",
    "\n",
    "d = {'k1':[1,2,3,{'tricky':['oh','man','inception',{'target':[1,2,3,'hello']}]}]}\n",
    "\n",
    "\"\"\""
   ]
  },
  {
   "cell_type": "code",
   "execution_count": 21,
   "id": "8fc66944",
   "metadata": {},
   "outputs": [],
   "source": [
    "d = {'k1':[1,2,3,{'tricky':['oh','man','inception',{'target':[1,2,3,'hello']}]}]}"
   ]
  },
  {
   "cell_type": "code",
   "execution_count": 24,
   "id": "f3e057e7",
   "metadata": {},
   "outputs": [
    {
     "data": {
      "text/plain": [
       "'hello'"
      ]
     },
     "execution_count": 24,
     "metadata": {},
     "output_type": "execute_result"
    }
   ],
   "source": [
    "d['k1'][3]['tricky'][3]['target'][3]"
   ]
  },
  {
   "cell_type": "code",
   "execution_count": null,
   "id": "23632b16",
   "metadata": {},
   "outputs": [],
   "source": [
    "\"\"\"\n",
    "** What is the main difference between a tuple and a list? **\n",
    "\"\"\""
   ]
  },
  {
   "cell_type": "code",
   "execution_count": null,
   "id": "34bbc056",
   "metadata": {},
   "outputs": [],
   "source": [
    "## Tuple is immutable"
   ]
  },
  {
   "cell_type": "code",
   "execution_count": null,
   "id": "6484da75",
   "metadata": {},
   "outputs": [],
   "source": [
    "\"\"\"\n",
    "** Create a function that grabs the email website domain from a string in the form: **\n",
    "\n",
    "user@domain.com\n",
    "So for example, passing \"user@domain.com\" would return: domain.com\n",
    "\n",
    "\"\"\""
   ]
  },
  {
   "cell_type": "code",
   "execution_count": 46,
   "id": "2f4c2b65",
   "metadata": {},
   "outputs": [
    {
     "name": "stdout",
     "output_type": "stream",
     "text": [
      "Enter the value: chiku.c@gmail.com\n"
     ]
    }
   ],
   "source": [
    "email=input(\"Enter the value: \")\n",
    "def get_domain_name(email):\n",
    "    return email.split('@')[1]"
   ]
  },
  {
   "cell_type": "code",
   "execution_count": 48,
   "id": "2e529d7b",
   "metadata": {},
   "outputs": [
    {
     "data": {
      "text/plain": [
       "'gmail.com'"
      ]
     },
     "execution_count": 48,
     "metadata": {},
     "output_type": "execute_result"
    }
   ],
   "source": [
    "get_domain_name(email)"
   ]
  },
  {
   "cell_type": "code",
   "execution_count": 269,
   "id": "e7436fa5",
   "metadata": {},
   "outputs": [
    {
     "data": {
      "text/plain": [
       "\"\\n** Create a basic function that returns True if the word 'dog' is contained in the input string. Don't worry about edge cases like a punctuation being attached to the word dog, but do account for capitalization. **\\n\""
      ]
     },
     "execution_count": 269,
     "metadata": {},
     "output_type": "execute_result"
    }
   ],
   "source": [
    "\"\"\"\n",
    "** Create a basic function that returns True if the word 'dog' is contained in the input string. Don't worry about edge cases like a punctuation being attached to the word dog, but do account for capitalization. **\n",
    "\"\"\""
   ]
  },
  {
   "cell_type": "code",
   "execution_count": 54,
   "id": "af9d06cc",
   "metadata": {},
   "outputs": [
    {
     "data": {
      "text/plain": [
       "True"
      ]
     },
     "execution_count": 54,
     "metadata": {},
     "output_type": "execute_result"
    }
   ],
   "source": [
    "'dog' in 'this is dogsw2edfw'"
   ]
  },
  {
   "cell_type": "code",
   "execution_count": null,
   "id": "b6dcf585",
   "metadata": {},
   "outputs": [],
   "source": [
    "\"\"\"\n",
    "** Create a function that counts the number of times the word \"dog\" occurs in a string. Again ignore edge cases. **\n",
    "\"\"\""
   ]
  },
  {
   "cell_type": "code",
   "execution_count": 78,
   "id": "cc603b73",
   "metadata": {},
   "outputs": [],
   "source": [
    "def count_of_dog(s):\n",
    "    count=0\n",
    "    for v in s.lower().split():\n",
    "        if v=='dog':\n",
    "            count=count+1        ## count+= 1\n",
    "    return count\n",
    "        "
   ]
  },
  {
   "cell_type": "code",
   "execution_count": 80,
   "id": "ed5fc40f",
   "metadata": {},
   "outputs": [
    {
     "data": {
      "text/plain": [
       "2"
      ]
     },
     "execution_count": 80,
     "metadata": {},
     "output_type": "execute_result"
    }
   ],
   "source": [
    "count_of_dog('This dog runs faster than the other Dog dude!')"
   ]
  },
  {
   "cell_type": "code",
   "execution_count": null,
   "id": "34e6ca70",
   "metadata": {},
   "outputs": [],
   "source": [
    "\"\"\"\n",
    "** Use lambda expressions and the filter() function to filter out words from a list that don't start with the letter 's'. For example:**\n",
    "\n",
    "seq = ['soup','dog','salad','cat','great']\n",
    "should be filtered down to:\n",
    "\n",
    "['soup','salad']\n",
    "\n",
    "\"\"\""
   ]
  },
  {
   "cell_type": "code",
   "execution_count": 85,
   "id": "c67b6d43",
   "metadata": {},
   "outputs": [],
   "source": [
    "seq = ['soup','dog','salad','cat','great']"
   ]
  },
  {
   "cell_type": "code",
   "execution_count": 86,
   "id": "440fe5d2",
   "metadata": {},
   "outputs": [],
   "source": [
    "lam1 = lambda x : x[0]!='s' "
   ]
  },
  {
   "cell_type": "code",
   "execution_count": 87,
   "id": "1235cd74",
   "metadata": {},
   "outputs": [
    {
     "data": {
      "text/plain": [
       "['dog', 'cat', 'great']"
      ]
     },
     "execution_count": 87,
     "metadata": {},
     "output_type": "execute_result"
    }
   ],
   "source": [
    "list(filter(lam1,seq))"
   ]
  },
  {
   "cell_type": "code",
   "execution_count": null,
   "id": "4c505c45",
   "metadata": {},
   "outputs": [],
   "source": [
    "\"\"\"\n",
    "*You are driving a little too fast, and a police officer stops you. Write a function to return one of 3 possible results: \"No ticket\", \"Small ticket\", or \"Big Ticket\". If your speed is 60 or less, the result is \"No Ticket\". If speed is between 61 and 80 inclusive, the result is \"Small Ticket\". If speed is 81 or more, the result is \"Big Ticket\". Unless it is your birthday (encoded as a boolean value in the parameters of the function) -- on your birthday, your speed can be 5 higher in all cases. *\n",
    "\"\"\""
   ]
  },
  {
   "cell_type": "code",
   "execution_count": 96,
   "id": "2546eef0",
   "metadata": {},
   "outputs": [],
   "source": [
    "def speed_penalty(speed,birthday):\n",
    "    if birthday:\n",
    "        s=speed-5\n",
    "    else:\n",
    "        s=speed\n",
    "    if s<=60:\n",
    "        print(\"No Ticket\")\n",
    "    elif s>=81:\n",
    "        print(\"Big Ticket\")\n",
    "    else:\n",
    "        print(\"Small ticket\") "
   ]
  },
  {
   "cell_type": "code",
   "execution_count": 97,
   "id": "a9554ac9",
   "metadata": {},
   "outputs": [
    {
     "name": "stdout",
     "output_type": "stream",
     "text": [
      "Small ticket\n"
     ]
    }
   ],
   "source": [
    "speed_penalty(84,True)"
   ]
  },
  {
   "cell_type": "code",
   "execution_count": 98,
   "id": "dee0fa2e",
   "metadata": {},
   "outputs": [
    {
     "name": "stdout",
     "output_type": "stream",
     "text": [
      "No Ticket\n"
     ]
    }
   ],
   "source": [
    "speed_penalty(64,True)"
   ]
  },
  {
   "cell_type": "code",
   "execution_count": null,
   "id": "c602b68d",
   "metadata": {},
   "outputs": [],
   "source": [
    "\"\"\"\n",
    "Given a string print number num by extracting all the\n",
    "digits from the string as in string\n",
    "\n",
    "\n",
    "\n",
    "string is '-'\n",
    "eg.\n",
    "-123abcd should return -123,abcd456-->456,fdhfh78dsd89--->7889,-56dssd78-->-5678\n",
    "\n",
    "\"\"\""
   ]
  },
  {
   "cell_type": "code",
   "execution_count": 142,
   "id": "a83abd9e",
   "metadata": {},
   "outputs": [
    {
     "name": "stdout",
     "output_type": "stream",
     "text": [
      "Enter string-54kjh\n",
      "-54\n"
     ]
    }
   ],
   "source": [
    "intStr = input('Enter string')\n",
    "opStr = \"\"\n",
    "operator = \"-\"\n",
    "listofNum= \"0123456789\"\n",
    "if intStr[0] == operator:\n",
    "    opStr = opStr + operator\n",
    "for char in intStr:\n",
    "    if listofNum.find(char)>0:\n",
    "        opStr = opStr + char\n",
    "print(opStr)"
   ]
  },
  {
   "cell_type": "code",
   "execution_count": null,
   "id": "1951c71d",
   "metadata": {},
   "outputs": [],
   "source": [
    "\"\"\"\n",
    "WAP to check whether a number is palindrome or not on following conditions.\n",
    "1. take input number\n",
    "2. add number and its reverse\n",
    "3. check that number is palindrome or not,if not then sum and its reverse\n",
    "\n",
    "\"\"\""
   ]
  },
  {
   "cell_type": "code",
   "execution_count": 174,
   "id": "466f0c69",
   "metadata": {},
   "outputs": [
    {
     "name": "stdout",
     "output_type": "stream",
     "text": [
      "Enter the number:88\n",
      "Num is : 847\n",
      "Reverse is : 748\n",
      "Num is : 1595\n",
      "Reverse is : 5951\n",
      "Num is : 7546\n",
      "Reverse is : 6457\n",
      "Num is : 14003\n",
      "Reverse is : 30041\n",
      "Num is : 44044\n",
      "Reverse is : 44044\n",
      "palindrom is : 44044\n"
     ]
    }
   ],
   "source": [
    "num1=input(\"Enter the number:\")\n",
    "num2=int(num1[::-1])\n",
    "num3=str(int(num1)+num2)\n",
    "while num3!=num3[::-1]:\n",
    "    num3=str(int(num3)+int(num3[::-1]))\n",
    "    print(\"Num is :\",num3)\n",
    "    print(\"Reverse is :\",num3[::-1])\n",
    "print(\"palindrom is :\",num3)"
   ]
  },
  {
   "cell_type": "code",
   "execution_count": null,
   "id": "92ea34bd",
   "metadata": {},
   "outputs": [],
   "source": [
    "\"\"\"\"\n",
    "Write a python function to find and display the five \n",
    "digit number in which the first digit is two more than \n",
    "the second,the second digit is two more than the third,\n",
    "the fourth digit is two less than the third, and the \n",
    "last digit is two more than\n",
    "the fourth.The sum of the third,fourth and fifth digits\n",
    "equals the first.The sum of all the digits is 19\n",
    "\"\"\"\"\""
   ]
  },
  {
   "cell_type": "code",
   "execution_count": 270,
   "id": "694cf9c8",
   "metadata": {},
   "outputs": [
    {
     "name": "stdout",
     "output_type": "stream",
     "text": [
      "75313\n"
     ]
    }
   ],
   "source": [
    "def find_number():\n",
    "    tuple = (0,1,2,3,4,5,6,7,8,9)\n",
    "    for num in tuple:\n",
    "        fifth=num\n",
    "        first=num+4\n",
    "        second=num+2\n",
    "        forth=num-2\n",
    "        third=fifth\n",
    "        if (third+forth+fifth)==first:\n",
    "            if (first+second+third+forth+fifth)==19:\n",
    "                return(int(str(first)+str(second)+str(third)+str(forth)+str(fifth)))\n",
    "print(find_number())   "
   ]
  },
  {
   "cell_type": "code",
   "execution_count": null,
   "id": "056f6600",
   "metadata": {},
   "outputs": [],
   "source": []
  }
 ],
 "metadata": {
  "kernelspec": {
   "display_name": "Python 3 (ipykernel)",
   "language": "python",
   "name": "python3"
  },
  "language_info": {
   "codemirror_mode": {
    "name": "ipython",
    "version": 3
   },
   "file_extension": ".py",
   "mimetype": "text/x-python",
   "name": "python",
   "nbconvert_exporter": "python",
   "pygments_lexer": "ipython3",
   "version": "3.9.7"
  }
 },
 "nbformat": 4,
 "nbformat_minor": 5
}
